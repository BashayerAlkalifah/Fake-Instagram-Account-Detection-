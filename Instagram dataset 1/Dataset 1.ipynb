{
  "nbformat": 4,
  "nbformat_minor": 0,
  "metadata": {
    "colab": {
      "name": "Untitled7.ipynb",
      "provenance": []
    },
    "kernelspec": {
      "name": "python3",
      "display_name": "Python 3"
    },
    "language_info": {
      "name": "python"
    }
  },
  "cells": [
    {
      "cell_type": "code",
      "source": [
        "from keras.backend import shape\n",
        "import pandas as pd\n",
        "from sklearn.preprocessing import MinMaxScaler\n",
        "from sklearn.model_selection import train_test_split \n",
        "from tensorflow.keras.models import Sequential\n",
        "from tensorflow.keras.layers import Dense , Dropout\n",
        "from tensorflow.keras.layers import LSTM\n",
        "import matplotlib.pyplot as plt\n",
        "\n",
        "import keras\n",
        "import keras.utils\n",
        "from keras import utils as np_utils\n",
        "\n",
        "from sklearn.model_selection import train_test_split\n",
        "from sklearn import model_selection, preprocessing\n",
        "from sklearn.metrics import classification_report, confusion_matrix, accuracy_score\n",
        "from sklearn.model_selection import cross_val_score, GridSearchCV, RandomizedSearchCV,KFold, cross_val_predict, StratifiedKFold, train_test_split, learning_curve, ShuffleSplit\n",
        "\n",
        "from sklearn.metrics import confusion_matrix, precision_score, recall_score, accuracy_score, f1_score\n",
        "from sklearn.model_selection import cross_val_predict\n",
        "from sklearn.metrics import confusion_matrix\n",
        "from sklearn.metrics import precision_recall_curve, average_precision_score, auc\n",
        "\n",
        "from sklearn.decomposition import PCA\n",
        "\n",
        "from sklearn.metrics import roc_curve\n",
        "from sklearn.metrics import roc_auc_score\n",
        "\n",
        "import seaborn as sns\n",
        "import matplotlib.pyplot as plt\n",
        "%matplotlib inline\n",
        "\n",
        "import tensorflow as tf\n",
        "\n",
        "\n",
        "from keras import models, regularizers, layers, optimizers, losses, metrics\n",
        "from keras.models import Sequential\n",
        "from keras.layers import Dense\n",
        "from keras.utils import np_utils\n",
        "\n",
        "#  ConvLSTM\n",
        "from keras.layers import Dense, Activation, Input, LSTM, Bidirectional, Dropout\n",
        "from keras.models import Sequential, Model\n",
        "from keras.layers import Conv1DTranspose, Conv1D, MaxPooling1D\n",
        "\n",
        "from tensorflow.python.client import device_lib"
      ],
      "metadata": {
        "id": "NpRP7MUC4pPn"
      },
      "execution_count": 1,
      "outputs": []
    },
    {
      "cell_type": "code",
      "source": [
        "data_full = pd.read_csv('Fake user.csv') \n",
        "#data_full=data_full.head(-30000)\n",
        "#data_full=data_full.drop(['e0c', 'hc', 'p0', 'fo', 'pi', 'e0l'], axis=1)\n",
        "#data_full=data_full.head(20000)\n",
        "\n",
        "data_full.dropna(inplace = True)\n",
        "data_full.drop_duplicates(inplace = True)\n",
        "\n",
        "#print(data_full.info()) \n",
        "print(data_full.shape)\n",
        "\n",
        "#print(data_full.isnull().sum())\n",
        "#print(data_full['pi'].describe())\n",
        "\n",
        "#print(data_full['flw'].isnull())\n",
        "#print(data_full.describe())\n",
        "#print(data_full['class'] < 0.0)\n",
        "\n",
        "y = data_full[\"isFake\"]\n",
        "X = data_full.drop(\"isFake\", 1)"
      ],
      "metadata": {
        "colab": {
          "base_uri": "https://localhost:8080/"
        },
        "id": "ioUZk7eW4yfC",
        "outputId": "33f4eb80-6464-47ce-d077-df89227d51a0"
      },
      "execution_count": 3,
      "outputs": [
        {
          "output_type": "stream",
          "name": "stdout",
          "text": [
            "(1165, 9)\n"
          ]
        },
        {
          "output_type": "stream",
          "name": "stderr",
          "text": [
            "/usr/local/lib/python3.7/dist-packages/ipykernel_launcher.py:20: FutureWarning: In a future version of pandas all arguments of DataFrame.drop except for the argument 'labels' will be keyword-only\n"
          ]
        }
      ]
    },
    {
      "cell_type": "code",
      "execution_count": 21,
      "metadata": {
        "colab": {
          "base_uri": "https://localhost:8080/"
        },
        "id": "AZ_lUXFn4nFw",
        "outputId": "ffb0f366-ab26-4200-a854-d79bbcb52a57"
      },
      "outputs": [
        {
          "output_type": "stream",
          "name": "stdout",
          "text": [
            "X_train:  (815, 1, 8)\n",
            "X_test:  (350, 1, 8)\n",
            "y_train:  (815,)\n",
            "y_test:  (350,)\n",
            "Epoch 1/50\n",
            "33/33 [==============================] - 6s 49ms/step - loss: 0.7441 - accuracy: 0.8196 - val_loss: 0.5996 - val_accuracy: 0.8400\n",
            "Epoch 2/50\n",
            "33/33 [==============================] - 1s 32ms/step - loss: 0.5066 - accuracy: 0.8294 - val_loss: 0.3664 - val_accuracy: 0.9143\n",
            "Epoch 3/50\n",
            "33/33 [==============================] - 1s 32ms/step - loss: 0.3438 - accuracy: 0.9166 - val_loss: 0.2851 - val_accuracy: 0.9257\n",
            "Epoch 4/50\n",
            "33/33 [==============================] - 1s 30ms/step - loss: 0.2812 - accuracy: 0.9190 - val_loss: 0.2485 - val_accuracy: 0.9400\n",
            "Epoch 5/50\n",
            "33/33 [==============================] - 1s 32ms/step - loss: 0.2428 - accuracy: 0.9288 - val_loss: 0.1992 - val_accuracy: 0.9486\n",
            "Epoch 6/50\n",
            "33/33 [==============================] - 1s 31ms/step - loss: 0.2256 - accuracy: 0.9288 - val_loss: 0.1779 - val_accuracy: 0.9543\n",
            "Epoch 7/50\n",
            "33/33 [==============================] - 1s 32ms/step - loss: 0.2191 - accuracy: 0.9325 - val_loss: 0.2185 - val_accuracy: 0.9314\n",
            "Epoch 8/50\n",
            "33/33 [==============================] - 1s 31ms/step - loss: 0.2178 - accuracy: 0.9313 - val_loss: 0.1626 - val_accuracy: 0.9600\n",
            "Epoch 9/50\n",
            "33/33 [==============================] - 1s 31ms/step - loss: 0.1921 - accuracy: 0.9387 - val_loss: 0.1484 - val_accuracy: 0.9571\n",
            "Epoch 10/50\n",
            "33/33 [==============================] - 1s 30ms/step - loss: 0.1839 - accuracy: 0.9387 - val_loss: 0.1524 - val_accuracy: 0.9600\n",
            "Epoch 11/50\n",
            "33/33 [==============================] - 1s 30ms/step - loss: 0.1628 - accuracy: 0.9436 - val_loss: 0.1310 - val_accuracy: 0.9543\n",
            "Epoch 12/50\n",
            "33/33 [==============================] - 1s 31ms/step - loss: 0.1780 - accuracy: 0.9374 - val_loss: 0.1680 - val_accuracy: 0.9457\n",
            "Epoch 13/50\n",
            "33/33 [==============================] - 1s 32ms/step - loss: 0.1743 - accuracy: 0.9387 - val_loss: 0.1398 - val_accuracy: 0.9571\n",
            "Epoch 14/50\n",
            "33/33 [==============================] - 1s 31ms/step - loss: 0.1574 - accuracy: 0.9436 - val_loss: 0.1241 - val_accuracy: 0.9543\n",
            "Epoch 15/50\n",
            "33/33 [==============================] - 1s 31ms/step - loss: 0.1418 - accuracy: 0.9497 - val_loss: 0.1368 - val_accuracy: 0.9629\n",
            "Epoch 16/50\n",
            "33/33 [==============================] - 1s 31ms/step - loss: 0.1406 - accuracy: 0.9472 - val_loss: 0.1205 - val_accuracy: 0.9571\n",
            "Epoch 17/50\n",
            "33/33 [==============================] - 1s 30ms/step - loss: 0.1308 - accuracy: 0.9521 - val_loss: 0.1139 - val_accuracy: 0.9629\n",
            "Epoch 18/50\n",
            "33/33 [==============================] - 1s 31ms/step - loss: 0.1319 - accuracy: 0.9534 - val_loss: 0.1141 - val_accuracy: 0.9600\n",
            "Epoch 19/50\n",
            "33/33 [==============================] - 1s 30ms/step - loss: 0.1436 - accuracy: 0.9485 - val_loss: 0.1289 - val_accuracy: 0.9514\n",
            "Epoch 20/50\n",
            "33/33 [==============================] - 1s 30ms/step - loss: 0.1213 - accuracy: 0.9595 - val_loss: 0.1076 - val_accuracy: 0.9629\n",
            "Epoch 21/50\n",
            "33/33 [==============================] - 1s 30ms/step - loss: 0.1216 - accuracy: 0.9583 - val_loss: 0.1101 - val_accuracy: 0.9629\n",
            "Epoch 22/50\n",
            "33/33 [==============================] - 1s 29ms/step - loss: 0.1111 - accuracy: 0.9521 - val_loss: 0.1165 - val_accuracy: 0.9543\n",
            "Epoch 23/50\n",
            "33/33 [==============================] - 1s 30ms/step - loss: 0.1106 - accuracy: 0.9607 - val_loss: 0.1047 - val_accuracy: 0.9657\n",
            "Epoch 24/50\n",
            "33/33 [==============================] - 1s 30ms/step - loss: 0.1230 - accuracy: 0.9595 - val_loss: 0.1309 - val_accuracy: 0.9571\n",
            "Epoch 25/50\n",
            "33/33 [==============================] - 1s 31ms/step - loss: 0.1169 - accuracy: 0.9644 - val_loss: 0.1025 - val_accuracy: 0.9571\n",
            "Epoch 26/50\n",
            "33/33 [==============================] - 1s 30ms/step - loss: 0.1052 - accuracy: 0.9644 - val_loss: 0.2083 - val_accuracy: 0.9200\n",
            "Epoch 27/50\n",
            "33/33 [==============================] - 1s 30ms/step - loss: 0.1326 - accuracy: 0.9521 - val_loss: 0.1177 - val_accuracy: 0.9571\n",
            "Epoch 28/50\n",
            "33/33 [==============================] - 1s 30ms/step - loss: 0.1121 - accuracy: 0.9656 - val_loss: 0.1013 - val_accuracy: 0.9629\n",
            "Epoch 29/50\n",
            "33/33 [==============================] - 1s 31ms/step - loss: 0.1080 - accuracy: 0.9607 - val_loss: 0.1092 - val_accuracy: 0.9571\n",
            "Epoch 30/50\n",
            "33/33 [==============================] - 1s 30ms/step - loss: 0.1010 - accuracy: 0.9607 - val_loss: 0.0990 - val_accuracy: 0.9686\n",
            "Epoch 31/50\n",
            "33/33 [==============================] - 1s 30ms/step - loss: 0.1011 - accuracy: 0.9718 - val_loss: 0.0978 - val_accuracy: 0.9600\n",
            "Epoch 32/50\n",
            "33/33 [==============================] - 1s 31ms/step - loss: 0.1003 - accuracy: 0.9632 - val_loss: 0.0995 - val_accuracy: 0.9686\n",
            "Epoch 33/50\n",
            "33/33 [==============================] - 1s 31ms/step - loss: 0.1104 - accuracy: 0.9620 - val_loss: 0.1068 - val_accuracy: 0.9600\n",
            "Epoch 34/50\n",
            "33/33 [==============================] - 1s 32ms/step - loss: 0.1238 - accuracy: 0.9595 - val_loss: 0.1088 - val_accuracy: 0.9629\n",
            "Epoch 35/50\n",
            "33/33 [==============================] - 1s 31ms/step - loss: 0.1049 - accuracy: 0.9583 - val_loss: 0.0928 - val_accuracy: 0.9657\n",
            "Epoch 36/50\n",
            "33/33 [==============================] - 1s 30ms/step - loss: 0.0938 - accuracy: 0.9656 - val_loss: 0.0956 - val_accuracy: 0.9600\n",
            "Epoch 37/50\n",
            "33/33 [==============================] - 1s 30ms/step - loss: 0.0926 - accuracy: 0.9730 - val_loss: 0.0924 - val_accuracy: 0.9629\n",
            "Epoch 38/50\n",
            "33/33 [==============================] - 1s 30ms/step - loss: 0.0875 - accuracy: 0.9669 - val_loss: 0.1135 - val_accuracy: 0.9571\n",
            "Epoch 39/50\n",
            "33/33 [==============================] - 1s 30ms/step - loss: 0.1030 - accuracy: 0.9595 - val_loss: 0.0907 - val_accuracy: 0.9629\n",
            "Epoch 40/50\n",
            "33/33 [==============================] - 1s 30ms/step - loss: 0.0984 - accuracy: 0.9644 - val_loss: 0.0939 - val_accuracy: 0.9657\n",
            "Epoch 41/50\n",
            "33/33 [==============================] - 1s 31ms/step - loss: 0.0915 - accuracy: 0.9706 - val_loss: 0.0968 - val_accuracy: 0.9629\n",
            "Epoch 42/50\n",
            "33/33 [==============================] - 1s 31ms/step - loss: 0.1047 - accuracy: 0.9521 - val_loss: 0.1032 - val_accuracy: 0.9629\n",
            "Epoch 43/50\n",
            "33/33 [==============================] - 1s 31ms/step - loss: 0.0951 - accuracy: 0.9718 - val_loss: 0.1079 - val_accuracy: 0.9657\n",
            "Epoch 44/50\n",
            "33/33 [==============================] - 1s 32ms/step - loss: 0.1151 - accuracy: 0.9595 - val_loss: 0.0958 - val_accuracy: 0.9629\n",
            "Epoch 45/50\n",
            "33/33 [==============================] - 1s 31ms/step - loss: 0.0868 - accuracy: 0.9693 - val_loss: 0.0977 - val_accuracy: 0.9629\n",
            "Epoch 46/50\n",
            "33/33 [==============================] - 1s 32ms/step - loss: 0.0910 - accuracy: 0.9644 - val_loss: 0.1100 - val_accuracy: 0.9571\n",
            "Epoch 47/50\n",
            "33/33 [==============================] - 1s 31ms/step - loss: 0.0997 - accuracy: 0.9644 - val_loss: 0.0942 - val_accuracy: 0.9714\n",
            "Epoch 48/50\n",
            "33/33 [==============================] - 1s 31ms/step - loss: 0.0818 - accuracy: 0.9718 - val_loss: 0.0957 - val_accuracy: 0.9714\n",
            "Epoch 49/50\n",
            "33/33 [==============================] - 1s 30ms/step - loss: 0.0797 - accuracy: 0.9742 - val_loss: 0.0982 - val_accuracy: 0.9657\n",
            "Epoch 50/50\n",
            "33/33 [==============================] - 1s 30ms/step - loss: 0.0858 - accuracy: 0.9742 - val_loss: 0.0932 - val_accuracy: 0.9657\n"
          ]
        }
      ],
      "source": [
        "scaler = MinMaxScaler(feature_range = (0,1))\n",
        "x = scaler.fit_transform(X)\n",
        "\n",
        "x = x.reshape(1165, 1, 8)\n",
        "\n",
        "X_train, X_test, y_train , y_test = train_test_split(x , y, test_size=0.3 , random_state = 72)\n",
        "print ('X_train: ', X_train.shape)\n",
        "print ('X_test: ', X_test.shape)\n",
        "print ('y_train: ', y_train.shape)\n",
        "print ('y_test: ', y_test.shape)\n",
        "\n",
        "\n",
        "model = models.Sequential()\n",
        "\n",
        "\n",
        "model.add(LSTM(512,input_shape=(X_train.shape[1], X_train.shape[2]),activation='relu', return_sequences =True))\n",
        "model.add(LSTM(256,input_shape=(X_train.shape[1], X_train.shape[2]),activation='relu', return_sequences =True))\n",
        "model.add(LSTM(64,input_shape=(X_train.shape[1], X_train.shape[2]),activation='relu', return_sequences =True))\n",
        "\n",
        "\n",
        "model.add(Dense(64, kernel_regularizer=keras.regularizers.l2(0.001)))\n",
        "model.add(Dropout(0.2))\n",
        "model.add(Dense(256, kernel_regularizer=keras.regularizers.l2(0.001)))\n",
        "model.add(Dropout(0.2))\n",
        "model.add(Dense(64 , kernel_regularizer=keras.regularizers.l2(0.001)))\n",
        "model.add(Dropout(0.2))\n",
        "\n",
        "\n",
        "\n",
        "\n",
        "\n",
        "\n",
        "model.add(layers.Dense(1, activation='sigmoid'))\n",
        "# FIT / TRAIN model\n",
        "\n",
        "model.compile(optimizer=\"Adam\", loss='binary_crossentropy', metrics=['accuracy'])\n",
        "\n",
        "history = model.fit(X_train, y_train, batch_size=25, epochs=50,validation_data=(X_test,y_test) )"
      ]
    },
    {
      "cell_type": "code",
      "source": [
        "plt.clf()\n",
        "loss = history.history['loss']\n",
        "val_loss = history.history['val_loss']\n",
        "epochs = range(1,len(loss)+ 1)\n",
        "plt.plot(epochs ,loss,'g',label='Training loss')\n",
        "plt.plot(epochs ,val_loss,'b',label='Validation loss')\n",
        "plt.title('Train and validation loss')\n",
        "plt.xlabel('Epochs')\n",
        "plt.ylabel('loss')\n",
        "plt.legend()\n",
        "plt.show()\n",
        "\n",
        "plt.clf()\n",
        "acc = history.history['accuracy']\n",
        "val_acc = history.history['val_accuracy']\n",
        "plt.plot(epochs ,acc,'g',label='Training acc')\n",
        "plt.plot(epochs ,val_acc,'y',label='Validation acc')\n",
        "plt.title('Train and validation accuracy')\n",
        "plt.xlabel('Epochs')\n",
        "plt.ylabel('Accuracy')\n",
        "plt.legend()\n",
        "plt.show()"
      ],
      "metadata": {
        "colab": {
          "base_uri": "https://localhost:8080/",
          "height": 573
        },
        "id": "vAfMLzXj5tJC",
        "outputId": "51072215-3ea2-4b50-8dea-aabc84ea99f3"
      },
      "execution_count": 22,
      "outputs": [
        {
          "output_type": "display_data",
          "data": {
            "text/plain": [
              "<Figure size 432x288 with 1 Axes>"
            ],
            "image/png": "[encoded data removed]"
          },
          "metadata": {
            "needs_background": "light"
          }
        },
        {
          "output_type": "display_data",
          "data": {
            "text/plain": [
              "<Figure size 432x288 with 1 Axes>"
            ],
            "image/png": "[encoded data removed]"
          },
          "metadata": {
            "needs_background": "light"
          }
        }
      ]
    }
  ]
}