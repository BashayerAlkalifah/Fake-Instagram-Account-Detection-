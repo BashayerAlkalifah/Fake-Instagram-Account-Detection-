{
  "nbformat": 4,
  "nbformat_minor": 0,
  "metadata": {
    "colab": {
      "provenance": []
    },
    "kernelspec": {
      "name": "python3",
      "display_name": "Python 3"
    },
    "language_info": {
      "name": "python"
    }
  },
  "cells": [
    {
      "cell_type": "code",
      "metadata": {
        "id": "rV9jN0ZOOhrp"
      },
      "source": [
        "from keras.backend import shape\n",
        "import pandas as pd\n",
        "from sklearn.preprocessing import MinMaxScaler\n",
        "from sklearn.model_selection import train_test_split\n",
        "from tensorflow.keras.models import Sequential\n",
        "from tensorflow.keras.layers import Dense , Dropout\n",
        "from tensorflow.keras.layers import LSTM\n",
        "import matplotlib.pyplot as plt\n",
        "from tensorflow.keras.utils import to_categorical\n",
        "import keras\n",
        "import keras.utils\n",
        "from keras import utils as np_utils\n",
        "\n",
        "from sklearn.model_selection import train_test_split\n",
        "from sklearn import model_selection, preprocessing\n",
        "from sklearn.metrics import classification_report, confusion_matrix, accuracy_score\n",
        "from sklearn.model_selection import cross_val_score, GridSearchCV, RandomizedSearchCV,KFold, cross_val_predict, StratifiedKFold, train_test_split, learning_curve, ShuffleSplit\n",
        "\n",
        "from sklearn.metrics import confusion_matrix, precision_score, recall_score, accuracy_score, f1_score\n",
        "from sklearn.model_selection import cross_val_predict\n",
        "from sklearn.metrics import confusion_matrix\n",
        "from sklearn.metrics import precision_recall_curve, average_precision_score, auc\n",
        "\n",
        "from sklearn.decomposition import PCA\n",
        "\n",
        "from sklearn.metrics import roc_curve\n",
        "from sklearn.metrics import roc_auc_score\n",
        "\n",
        "import seaborn as sns\n",
        "import matplotlib.pyplot as plt\n",
        "%matplotlib inline\n",
        "\n",
        "import tensorflow as tf\n",
        "\n",
        "\n",
        "from keras import models, regularizers, layers, optimizers, losses, metrics\n",
        "from keras.models import Sequential\n",
        "from keras.layers import Dense\n",
        "from tensorflow.keras.metrics import AUC\n",
        "\n",
        "#  ConvLSTM\n",
        "from keras.layers import Dense, Activation, Input, LSTM, Bidirectional, Dropout\n",
        "from keras.models import Sequential, Model\n",
        "from keras.layers import Conv1DTranspose, Conv1D, MaxPooling1D\n",
        "\n",
        "from tensorflow.python.client import device_lib"
      ],
      "execution_count": null,
      "outputs": []
    },
    {
      "cell_type": "code",
      "source": [],
      "metadata": {
        "id": "30V8chQRMO1k"
      },
      "execution_count": null,
      "outputs": []
    },
    {
      "cell_type": "markdown",
      "source": [
        "# New Section"
      ],
      "metadata": {
        "id": "XOQpELkrMUDY"
      }
    },
    {
      "cell_type": "code",
      "metadata": {
        "colab": {
          "base_uri": "https://localhost:8080/"
        },
        "id": "2QYZcF-OPEjJ",
        "outputId": "2ffbeacc-3f4e-4502-ab3b-d476fbd7fb0f"
      },
      "source": [
        "data_full = pd.read_csv('dataset3.csv')\n",
        "\n",
        "\n",
        "# print(data_full.head())\n",
        "\n",
        "y = data_full[\"class_bot\"]\n",
        "X = data_full.drop(\"class_bot\", 1)\n",
        "\n"
      ],
      "execution_count": null,
      "outputs": [
        {
          "output_type": "stream",
          "name": "stderr",
          "text": [
            "<ipython-input-2-321b57349716>:7: FutureWarning: In a future version of pandas all arguments of DataFrame.drop except for the argument 'labels' will be keyword-only.\n",
            "  X = data_full.drop(\"class_bot\", 1)\n"
          ]
        }
      ]
    },
    {
      "cell_type": "code",
      "source": [],
      "metadata": {
        "id": "pLG5Z0THK_EZ"
      },
      "execution_count": null,
      "outputs": []
    },
    {
      "cell_type": "code",
      "metadata": {
        "colab": {
          "base_uri": "https://localhost:8080/"
        },
        "id": "tuPWRG-bPWO1",
        "outputId": "24b5adc8-b460-44af-e7aa-411db2314785"
      },
      "source": [
        "# SPLIT into Train & Test\n",
        "X_train, X_test, y_train, y_test = train_test_split(X, y, test_size=0.3, random_state=42)\n",
        "print ('X_train: ', X_train.shape)\n",
        "print ('X_test: ', X_test.shape)\n",
        "print ('y_train: ', y_train.shape)\n",
        "print ('y_test: ', y_test.shape)\n",
        "\n"
      ],
      "execution_count": null,
      "outputs": [
        {
          "output_type": "stream",
          "name": "stdout",
          "text": [
            "X_train:  (5870, 68)\n",
            "X_test:  (2516, 68)\n",
            "y_train:  (5870,)\n",
            "y_test:  (2516,)\n"
          ]
        }
      ]
    },
    {
      "cell_type": "code",
      "metadata": {
        "colab": {
          "base_uri": "https://localhost:8080/"
        },
        "id": "a9z6SSwbPaBp",
        "outputId": "8fb39c5c-048c-47fd-bd71-552d7347a798"
      },
      "source": [
        "# SVM\n",
        "from sklearn.svm import SVC\n",
        "from sklearn import metrics\n",
        "from sklearn.metrics import log_loss\n",
        "\n",
        "svc=SVC() #Default hyperparameters\n",
        "svc.fit(X_train,y_train)\n",
        "y_pred=svc.predict(X_test)\n",
        "\n",
        "print('Accuracy Score:')\n",
        "print(metrics.accuracy_score(y_test,y_pred))\n",
        "\n",
        "print('Recall: %.3f' % recall_score(y_test, y_pred))\n",
        "print('F1 Score: %.3f' % f1_score(y_test, y_pred))\n",
        "#print('Precision: %.3f' % precision_score(y_test, y_pred))"
      ],
      "execution_count": null,
      "outputs": [
        {
          "output_type": "stream",
          "name": "stdout",
          "text": [
            "Accuracy Score:\n",
            "0.775039745627981\n",
            "Recall: 0.725\n",
            "F1 Score: 0.788\n"
          ]
        }
      ]
    },
    {
      "cell_type": "code",
      "metadata": {
        "colab": {
          "base_uri": "https://localhost:8080/"
        },
        "id": "hYj9HF1-QLd0",
        "outputId": "9f156e28-fb2a-492f-dac1-4948d44d0db3"
      },
      "source": [
        "#GaussianNB\n",
        "from sklearn.naive_bayes import GaussianNB\n",
        "\n",
        "nb=GaussianNB()\n",
        "nb.fit(X_train,y_train)\n",
        "y_pred=nb.predict(X_test)\n",
        "\n",
        "print('Accuracy Score:')\n",
        "print(metrics.accuracy_score(y_test,y_pred))\n",
        "\n",
        "print('Recall: %.3f' % recall_score(y_test, y_pred))\n",
        "print('F1 Score: %.3f' % f1_score(y_test, y_pred))"
      ],
      "execution_count": null,
      "outputs": [
        {
          "output_type": "stream",
          "name": "stdout",
          "text": [
            "Accuracy Score:\n",
            "0.9288553259141494\n",
            "Recall: 0.995\n",
            "F1 Score: 0.941\n"
          ]
        }
      ]
    },
    {
      "cell_type": "code",
      "metadata": {
        "colab": {
          "base_uri": "https://localhost:8080/"
        },
        "outputId": "03b58c71-b273-4424-9fd7-19a62fd5d8f3",
        "id": "qDNPmnSHyWlz"
      },
      "source": [
        "#LogisticRegression\n",
        "from sklearn.linear_model import LogisticRegression\n",
        "LR = LogisticRegression()\n",
        "# Train the model on training data\n",
        "LR.fit(X_train,y_train);\n",
        "y_pred=LR.predict(X_test)\n",
        "\n",
        "print('Accuracy Score:')\n",
        "print(metrics.accuracy_score(y_test,y_pred))\n",
        "\n",
        "print('Recall: %.3f' % recall_score(y_test, y_pred))\n",
        "print('F1 Score: %.3f' % f1_score(y_test, y_pred))"
      ],
      "execution_count": null,
      "outputs": [
        {
          "output_type": "stream",
          "name": "stdout",
          "text": [
            "Accuracy Score:\n",
            "0.962241653418124\n",
            "Recall: 0.994\n",
            "F1 Score: 0.968\n"
          ]
        }
      ]
    },
    {
      "cell_type": "code",
      "source": [
        "#RandomForestClassifier\n",
        "from sklearn.ensemble import RandomForestClassifier\n",
        "rf = RandomForestClassifier()\n",
        "\n",
        "# Train the model on training data\n",
        "rf.fit(X_train,y_train);\n",
        "y_pred=rf.predict(X_test)\n",
        "\n",
        "print('Accuracy Score:')\n",
        "print(metrics.accuracy_score(y_test,y_pred))\n",
        "\n",
        "print('Recall: %.3f' % recall_score(y_test, y_pred))\n",
        "print('F1 Score: %.3f' % f1_score(y_test, y_pred))"
      ],
      "metadata": {
        "colab": {
          "base_uri": "https://localhost:8080/"
        },
        "id": "vPT0MkKO1L9o",
        "outputId": "212d3d8e-48b4-4373-fce8-76adb3cb9672"
      },
      "execution_count": null,
      "outputs": [
        {
          "output_type": "stream",
          "name": "stdout",
          "text": [
            "Accuracy Score:\n",
            "0.9916534181240063\n",
            "Recall: 0.990\n",
            "F1 Score: 0.993\n"
          ]
        }
      ]
    },
    {
      "cell_type": "code",
      "source": [
        "#KNeighborsClassifier\n",
        "from sklearn.neighbors import KNeighborsClassifier\n",
        "KN = KNeighborsClassifier()\n",
        "# Train the model on training data\n",
        "\n",
        "KN.fit(X_train,y_train);\n",
        "y_pred=KN.predict(X_test)\n",
        "\n",
        "print('Accuracy Score:')\n",
        "print(metrics.accuracy_score(y_test,y_pred))\n",
        "\n",
        "print('Recall: %.3f' % recall_score(y_test, y_pred))\n",
        "print('F1 Score: %.3f' % f1_score(y_test, y_pred))"
      ],
      "metadata": {
        "colab": {
          "base_uri": "https://localhost:8080/"
        },
        "id": "-7Y69VjM1T7v",
        "outputId": "86b5527f-b896-4b44-fa34-c0c015a8968b"
      },
      "execution_count": null,
      "outputs": [
        {
          "output_type": "stream",
          "name": "stdout",
          "text": [
            "Accuracy Score:\n",
            "0.9308426073131956\n",
            "Recall: 0.938\n",
            "F1 Score: 0.940\n"
          ]
        }
      ]
    },
    {
      "cell_type": "code",
      "source": [
        "#DecisionTreeClassifier\n",
        "from sklearn.tree import DecisionTreeClassifier\n",
        "rf = DecisionTreeClassifier()\n",
        "# Train the model on training data\n",
        "rf.fit(X_train,y_train);\n",
        "y_pred=rf.predict(X_test)\n",
        "\n",
        "\n",
        "print('Accuracy Score:')\n",
        "print(metrics.accuracy_score(y_test,y_pred))\n",
        "\n",
        "print('Recall: %.3f' % recall_score(y_test, y_pred))\n",
        "print('F1 Score: %.3f' % f1_score(y_test, y_pred))"
      ],
      "metadata": {
        "colab": {
          "base_uri": "https://localhost:8080/"
        },
        "id": "JPjmG1T81axV",
        "outputId": "facce08f-cbd1-496a-bb53-ba8ac0056b24"
      },
      "execution_count": null,
      "outputs": [
        {
          "output_type": "stream",
          "name": "stdout",
          "text": [
            "Accuracy Score:\n",
            "0.9900635930047694\n",
            "Recall: 0.991\n",
            "F1 Score: 0.991\n"
          ]
        }
      ]
    },
    {
      "cell_type": "code",
      "source": [
        "#LinearDiscriminantAnalysis\n",
        "from sklearn.discriminant_analysis import LinearDiscriminantAnalysis\n",
        "rf = LinearDiscriminantAnalysis()\n",
        "# Train the model on training data\n",
        "rf.fit(X_train,y_train);\n",
        "y_pred=rf.predict(X_test)\n",
        "\n",
        "\n",
        "print('Accuracy Score:')\n",
        "print(metrics.accuracy_score(y_test,y_pred))\n",
        "\n",
        "print('Recall: %.3f' % recall_score(y_test, y_pred))\n",
        "print('F1 Score: %.3f' % f1_score(y_test, y_pred))"
      ],
      "metadata": {
        "colab": {
          "base_uri": "https://localhost:8080/"
        },
        "id": "kmCRcIAO1pgM",
        "outputId": "fab871db-7067-4535-bc9b-013838c2c863"
      },
      "execution_count": null,
      "outputs": [
        {
          "output_type": "stream",
          "name": "stdout",
          "text": [
            "Accuracy Score:\n",
            "0.9872813990461049\n",
            "Recall: 0.988\n",
            "F1 Score: 0.989\n"
          ]
        }
      ]
    },
    {
      "cell_type": "code",
      "metadata": {
        "id": "2cb-kTWKYCEe"
      },
      "source": [],
      "execution_count": null,
      "outputs": []
    }
  ]
}