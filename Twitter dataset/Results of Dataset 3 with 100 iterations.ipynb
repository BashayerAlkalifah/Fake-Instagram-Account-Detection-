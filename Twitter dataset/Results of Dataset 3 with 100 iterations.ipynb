{
  "nbformat": 4,
  "nbformat_minor": 0,
  "metadata": {
    "colab": {
      "provenance": []
    },
    "kernelspec": {
      "name": "python3",
      "display_name": "Python 3"
    },
    "language_info": {
      "name": "python"
    }
  },
  "cells": [
    {
      "cell_type": "code",
      "source": [
        "from keras.backend import shape\n",
        "import pandas as pd\n",
        "from sklearn.preprocessing import MinMaxScaler\n",
        "from sklearn.model_selection import train_test_split\n",
        "from tensorflow.keras.models import Sequential\n",
        "from tensorflow.keras.layers import Dense , Dropout\n",
        "from tensorflow.keras.layers import LSTM\n",
        "import matplotlib.pyplot as plt\n",
        "\n",
        "import keras\n",
        "import keras.utils\n",
        "from keras import utils as np_utils\n",
        "\n",
        "from sklearn.model_selection import train_test_split\n",
        "from sklearn import model_selection, preprocessing\n",
        "from sklearn.metrics import classification_report, confusion_matrix, accuracy_score\n",
        "from sklearn.model_selection import cross_val_score, GridSearchCV, RandomizedSearchCV,KFold, cross_val_predict, StratifiedKFold, train_test_split, learning_curve, ShuffleSplit\n",
        "\n",
        "from sklearn.metrics import confusion_matrix, precision_score, recall_score, accuracy_score, f1_score\n",
        "from sklearn.model_selection import cross_val_predict\n",
        "from sklearn.metrics import confusion_matrix\n",
        "from sklearn.metrics import precision_recall_curve, average_precision_score, auc\n",
        "\n",
        "from sklearn.decomposition import PCA\n",
        "\n",
        "from sklearn.metrics import roc_curve\n",
        "from sklearn.metrics import roc_auc_score\n",
        "\n",
        "import seaborn as sns\n",
        "import matplotlib.pyplot as plt\n",
        "%matplotlib inline\n",
        "\n",
        "import tensorflow as tf\n",
        "\n",
        "\n",
        "from keras import models, regularizers, layers, optimizers, losses, metrics\n",
        "from keras.models import Sequential\n",
        "from keras.layers import Dense\n",
        "#from keras.utils import np_utils\n",
        "from tensorflow.python.keras.utils import np_utils\n",
        "#  ConvLSTM\n",
        "from keras.layers import Dense, Activation, Input, LSTM, Bidirectional, Dropout\n",
        "from keras.models import Sequential, Model\n",
        "from keras.layers import Conv1DTranspose, Conv1D, MaxPooling1D\n",
        "\n",
        "from tensorflow.python.client import device_lib"
      ],
      "metadata": {
        "id": "NpRP7MUC4pPn"
      },
      "execution_count": 37,
      "outputs": []
    },
    {
      "cell_type": "code",
      "source": [
        "data_full = pd.read_csv('dataset1.csv')\n",
        "#data_full=data_full.head(-30000)\n",
        "#data_full=data_full.drop(['e0c', 'hc', 'p0', 'fo', 'pi', 'e0l'], axis=1)\n",
        "#data_full=data_full.head(20000)\n",
        "\n",
        "data_full.dropna(inplace = True)\n",
        "data_full.drop_duplicates(inplace = True)\n",
        "\n",
        "#print(data_full.info())\n",
        "print(data_full.shape)\n",
        "\n",
        "#print(data_full.isnull().sum())\n",
        "#print(data_full['pi'].describe())\n",
        "\n",
        "#print(data_full['flw'].isnull())\n",
        "#print(data_full.describe())\n",
        "#print(data_full['class'] < 0.0)\n",
        "\n",
        "y = data_full[\"class_bot\"]\n",
        "X = data_full.drop(\"class_bot\", 1)"
      ],
      "metadata": {
        "colab": {
          "base_uri": "https://localhost:8080/"
        },
        "id": "ioUZk7eW4yfC",
        "outputId": "f4814588-c320-49a8-c06d-73a5e89ae5bf"
      },
      "execution_count": 38,
      "outputs": [
        {
          "output_type": "stream",
          "name": "stdout",
          "text": [
            "(8386, 69)\n"
          ]
        },
        {
          "output_type": "stream",
          "name": "stderr",
          "text": [
            "<ipython-input-38-f0bb465e8046>:20: FutureWarning: In a future version of pandas all arguments of DataFrame.drop except for the argument 'labels' will be keyword-only.\n",
            "  X = data_full.drop(\"class_bot\", 1)\n"
          ]
        }
      ]
    },
    {
      "cell_type": "code",
      "execution_count": 39,
      "metadata": {
        "colab": {
          "base_uri": "https://localhost:8080/"
        },
        "id": "AZ_lUXFn4nFw",
        "outputId": "fc861066-af7b-4f8a-995d-093fc0656038"
      },
      "outputs": [
        {
          "output_type": "stream",
          "name": "stdout",
          "text": [
            "X_train:  (5870, 1, 68)\n",
            "X_test:  (2516, 1, 68)\n",
            "y_train:  (5870,)\n",
            "y_test:  (2516,)\n",
            "Epoch 1/100\n",
            "184/184 [==============================] - 8s 20ms/step - loss: 0.4461 - accuracy: 0.7731 - val_loss: 0.1331 - val_accuracy: 0.9607\n",
            "Epoch 2/100\n",
            "184/184 [==============================] - 4s 21ms/step - loss: 0.0780 - accuracy: 0.9826 - val_loss: 0.0492 - val_accuracy: 0.9893\n",
            "Epoch 3/100\n",
            "184/184 [==============================] - 4s 23ms/step - loss: 0.0599 - accuracy: 0.9859 - val_loss: 0.0410 - val_accuracy: 0.9897\n",
            "Epoch 4/100\n",
            "184/184 [==============================] - 3s 18ms/step - loss: 0.0529 - accuracy: 0.9872 - val_loss: 0.0353 - val_accuracy: 0.9893\n",
            "Epoch 5/100\n",
            "184/184 [==============================] - 6s 31ms/step - loss: 0.0478 - accuracy: 0.9884 - val_loss: 0.0336 - val_accuracy: 0.9901\n",
            "Epoch 6/100\n",
            "184/184 [==============================] - 7s 39ms/step - loss: 0.0442 - accuracy: 0.9881 - val_loss: 0.0343 - val_accuracy: 0.9905\n",
            "Epoch 7/100\n",
            "184/184 [==============================] - 6s 30ms/step - loss: 0.0407 - accuracy: 0.9889 - val_loss: 0.0285 - val_accuracy: 0.9917\n",
            "Epoch 8/100\n",
            "184/184 [==============================] - 3s 17ms/step - loss: 0.0381 - accuracy: 0.9891 - val_loss: 0.0275 - val_accuracy: 0.9921\n",
            "Epoch 9/100\n",
            "184/184 [==============================] - 5s 25ms/step - loss: 0.0383 - accuracy: 0.9903 - val_loss: 0.0250 - val_accuracy: 0.9924\n",
            "Epoch 10/100\n",
            "184/184 [==============================] - 3s 15ms/step - loss: 0.0366 - accuracy: 0.9901 - val_loss: 0.0265 - val_accuracy: 0.9924\n",
            "Epoch 11/100\n",
            "184/184 [==============================] - 3s 15ms/step - loss: 0.0354 - accuracy: 0.9898 - val_loss: 0.0289 - val_accuracy: 0.9921\n",
            "Epoch 12/100\n",
            "184/184 [==============================] - 3s 15ms/step - loss: 0.0328 - accuracy: 0.9901 - val_loss: 0.0246 - val_accuracy: 0.9936\n",
            "Epoch 13/100\n",
            "184/184 [==============================] - 4s 24ms/step - loss: 0.0337 - accuracy: 0.9910 - val_loss: 0.0226 - val_accuracy: 0.9936\n",
            "Epoch 14/100\n",
            "184/184 [==============================] - 3s 16ms/step - loss: 0.0298 - accuracy: 0.9913 - val_loss: 0.0227 - val_accuracy: 0.9932\n",
            "Epoch 15/100\n",
            "184/184 [==============================] - 3s 15ms/step - loss: 0.0325 - accuracy: 0.9908 - val_loss: 0.0221 - val_accuracy: 0.9936\n",
            "Epoch 16/100\n",
            "184/184 [==============================] - 3s 16ms/step - loss: 0.0313 - accuracy: 0.9910 - val_loss: 0.0420 - val_accuracy: 0.9881\n",
            "Epoch 17/100\n",
            "184/184 [==============================] - 4s 21ms/step - loss: 0.0303 - accuracy: 0.9911 - val_loss: 0.0213 - val_accuracy: 0.9944\n",
            "Epoch 18/100\n",
            "184/184 [==============================] - 3s 19ms/step - loss: 0.0308 - accuracy: 0.9905 - val_loss: 0.0283 - val_accuracy: 0.9936\n",
            "Epoch 19/100\n",
            "184/184 [==============================] - 3s 15ms/step - loss: 0.0303 - accuracy: 0.9908 - val_loss: 0.0210 - val_accuracy: 0.9948\n",
            "Epoch 20/100\n",
            "184/184 [==============================] - 3s 14ms/step - loss: 0.0295 - accuracy: 0.9915 - val_loss: 0.0215 - val_accuracy: 0.9948\n",
            "Epoch 21/100\n",
            "184/184 [==============================] - 3s 15ms/step - loss: 0.0292 - accuracy: 0.9913 - val_loss: 0.0203 - val_accuracy: 0.9948\n",
            "Epoch 22/100\n",
            "184/184 [==============================] - 4s 24ms/step - loss: 0.0286 - accuracy: 0.9917 - val_loss: 0.0216 - val_accuracy: 0.9952\n",
            "Epoch 23/100\n",
            "184/184 [==============================] - 3s 16ms/step - loss: 0.0291 - accuracy: 0.9911 - val_loss: 0.0207 - val_accuracy: 0.9948\n",
            "Epoch 24/100\n",
            "184/184 [==============================] - 3s 15ms/step - loss: 0.0279 - accuracy: 0.9908 - val_loss: 0.0215 - val_accuracy: 0.9928\n",
            "Epoch 25/100\n",
            "184/184 [==============================] - 3s 16ms/step - loss: 0.0273 - accuracy: 0.9922 - val_loss: 0.0239 - val_accuracy: 0.9909\n",
            "Epoch 26/100\n",
            "184/184 [==============================] - 4s 21ms/step - loss: 0.0272 - accuracy: 0.9922 - val_loss: 0.0231 - val_accuracy: 0.9921\n",
            "Epoch 27/100\n",
            "184/184 [==============================] - 3s 18ms/step - loss: 0.0276 - accuracy: 0.9913 - val_loss: 0.0216 - val_accuracy: 0.9932\n",
            "Epoch 28/100\n",
            "184/184 [==============================] - 3s 14ms/step - loss: 0.0271 - accuracy: 0.9913 - val_loss: 0.0274 - val_accuracy: 0.9940\n",
            "Epoch 29/100\n",
            "184/184 [==============================] - 3s 15ms/step - loss: 0.0265 - accuracy: 0.9928 - val_loss: 0.0205 - val_accuracy: 0.9952\n",
            "Epoch 30/100\n",
            "184/184 [==============================] - 3s 18ms/step - loss: 0.0266 - accuracy: 0.9927 - val_loss: 0.0211 - val_accuracy: 0.9956\n",
            "Epoch 31/100\n",
            "184/184 [==============================] - 4s 21ms/step - loss: 0.0272 - accuracy: 0.9913 - val_loss: 0.0204 - val_accuracy: 0.9956\n",
            "Epoch 32/100\n",
            "184/184 [==============================] - 3s 16ms/step - loss: 0.0264 - accuracy: 0.9917 - val_loss: 0.0217 - val_accuracy: 0.9952\n",
            "Epoch 33/100\n",
            "184/184 [==============================] - 3s 14ms/step - loss: 0.0256 - accuracy: 0.9920 - val_loss: 0.0200 - val_accuracy: 0.9952\n",
            "Epoch 34/100\n",
            "184/184 [==============================] - 3s 14ms/step - loss: 0.0246 - accuracy: 0.9927 - val_loss: 0.0206 - val_accuracy: 0.9952\n",
            "Epoch 35/100\n",
            "184/184 [==============================] - 4s 20ms/step - loss: 0.0254 - accuracy: 0.9917 - val_loss: 0.0203 - val_accuracy: 0.9952\n",
            "Epoch 36/100\n",
            "184/184 [==============================] - 3s 14ms/step - loss: 0.0266 - accuracy: 0.9918 - val_loss: 0.0206 - val_accuracy: 0.9940\n",
            "Epoch 37/100\n",
            "184/184 [==============================] - 3s 16ms/step - loss: 0.0251 - accuracy: 0.9920 - val_loss: 0.0202 - val_accuracy: 0.9952\n",
            "Epoch 38/100\n",
            "184/184 [==============================] - 3s 15ms/step - loss: 0.0250 - accuracy: 0.9920 - val_loss: 0.0219 - val_accuracy: 0.9956\n",
            "Epoch 39/100\n",
            "184/184 [==============================] - 5s 25ms/step - loss: 0.0245 - accuracy: 0.9923 - val_loss: 0.0241 - val_accuracy: 0.9940\n",
            "Epoch 40/100\n",
            "184/184 [==============================] - 3s 19ms/step - loss: 0.0243 - accuracy: 0.9917 - val_loss: 0.0198 - val_accuracy: 0.9952\n",
            "Epoch 41/100\n",
            "184/184 [==============================] - 3s 16ms/step - loss: 0.0244 - accuracy: 0.9917 - val_loss: 0.0206 - val_accuracy: 0.9960\n",
            "Epoch 42/100\n",
            "184/184 [==============================] - 3s 15ms/step - loss: 0.0237 - accuracy: 0.9918 - val_loss: 0.0234 - val_accuracy: 0.9913\n",
            "Epoch 43/100\n",
            "184/184 [==============================] - 3s 18ms/step - loss: 0.0237 - accuracy: 0.9928 - val_loss: 0.0219 - val_accuracy: 0.9924\n",
            "Epoch 44/100\n",
            "184/184 [==============================] - 4s 20ms/step - loss: 0.0236 - accuracy: 0.9928 - val_loss: 0.0218 - val_accuracy: 0.9952\n",
            "Epoch 45/100\n",
            "184/184 [==============================] - 3s 14ms/step - loss: 0.0240 - accuracy: 0.9928 - val_loss: 0.0199 - val_accuracy: 0.9952\n",
            "Epoch 46/100\n",
            "184/184 [==============================] - 3s 16ms/step - loss: 0.0228 - accuracy: 0.9930 - val_loss: 0.0251 - val_accuracy: 0.9936\n",
            "Epoch 47/100\n",
            "184/184 [==============================] - 3s 15ms/step - loss: 0.0236 - accuracy: 0.9927 - val_loss: 0.0203 - val_accuracy: 0.9956\n",
            "Epoch 48/100\n",
            "184/184 [==============================] - 4s 22ms/step - loss: 0.0233 - accuracy: 0.9927 - val_loss: 0.0211 - val_accuracy: 0.9924\n",
            "Epoch 49/100\n",
            "184/184 [==============================] - 3s 15ms/step - loss: 0.0233 - accuracy: 0.9925 - val_loss: 0.0205 - val_accuracy: 0.9956\n",
            "Epoch 50/100\n",
            "184/184 [==============================] - 3s 16ms/step - loss: 0.0222 - accuracy: 0.9922 - val_loss: 0.0299 - val_accuracy: 0.9905\n",
            "Epoch 51/100\n",
            "184/184 [==============================] - 3s 14ms/step - loss: 0.0230 - accuracy: 0.9920 - val_loss: 0.0211 - val_accuracy: 0.9952\n",
            "Epoch 52/100\n",
            "184/184 [==============================] - 4s 20ms/step - loss: 0.0228 - accuracy: 0.9923 - val_loss: 0.0214 - val_accuracy: 0.9948\n",
            "Epoch 53/100\n",
            "184/184 [==============================] - 3s 18ms/step - loss: 0.0221 - accuracy: 0.9935 - val_loss: 0.0204 - val_accuracy: 0.9956\n",
            "Epoch 54/100\n",
            "184/184 [==============================] - 3s 15ms/step - loss: 0.0226 - accuracy: 0.9925 - val_loss: 0.0248 - val_accuracy: 0.9944\n",
            "Epoch 55/100\n",
            "184/184 [==============================] - 3s 14ms/step - loss: 0.0219 - accuracy: 0.9934 - val_loss: 0.0213 - val_accuracy: 0.9952\n",
            "Epoch 56/100\n",
            "184/184 [==============================] - 3s 17ms/step - loss: 0.0219 - accuracy: 0.9934 - val_loss: 0.0216 - val_accuracy: 0.9960\n",
            "Epoch 57/100\n",
            "184/184 [==============================] - 3s 18ms/step - loss: 0.0224 - accuracy: 0.9923 - val_loss: 0.0209 - val_accuracy: 0.9960\n",
            "Epoch 58/100\n",
            "184/184 [==============================] - 3s 14ms/step - loss: 0.0217 - accuracy: 0.9934 - val_loss: 0.0222 - val_accuracy: 0.9948\n",
            "Epoch 59/100\n",
            "184/184 [==============================] - 3s 14ms/step - loss: 0.0217 - accuracy: 0.9930 - val_loss: 0.0208 - val_accuracy: 0.9956\n",
            "Epoch 60/100\n",
            "184/184 [==============================] - 3s 15ms/step - loss: 0.0208 - accuracy: 0.9932 - val_loss: 0.0245 - val_accuracy: 0.9948\n",
            "Epoch 61/100\n",
            "184/184 [==============================] - 4s 23ms/step - loss: 0.0223 - accuracy: 0.9934 - val_loss: 0.0209 - val_accuracy: 0.9960\n",
            "Epoch 62/100\n",
            "184/184 [==============================] - 3s 15ms/step - loss: 0.0206 - accuracy: 0.9937 - val_loss: 0.0249 - val_accuracy: 0.9940\n",
            "Epoch 63/100\n",
            "184/184 [==============================] - 3s 17ms/step - loss: 0.0207 - accuracy: 0.9939 - val_loss: 0.0205 - val_accuracy: 0.9956\n",
            "Epoch 64/100\n",
            "184/184 [==============================] - 3s 16ms/step - loss: 0.0193 - accuracy: 0.9945 - val_loss: 0.0242 - val_accuracy: 0.9928\n",
            "Epoch 65/100\n",
            "184/184 [==============================] - 4s 23ms/step - loss: 0.0207 - accuracy: 0.9932 - val_loss: 0.0207 - val_accuracy: 0.9964\n",
            "Epoch 66/100\n",
            "184/184 [==============================] - 3s 16ms/step - loss: 0.0200 - accuracy: 0.9942 - val_loss: 0.0216 - val_accuracy: 0.9956\n",
            "Epoch 67/100\n",
            "184/184 [==============================] - 3s 15ms/step - loss: 0.0202 - accuracy: 0.9930 - val_loss: 0.0221 - val_accuracy: 0.9960\n",
            "Epoch 68/100\n",
            "184/184 [==============================] - 3s 18ms/step - loss: 0.0196 - accuracy: 0.9939 - val_loss: 0.0221 - val_accuracy: 0.9952\n",
            "Epoch 69/100\n",
            "184/184 [==============================] - 4s 22ms/step - loss: 0.0201 - accuracy: 0.9935 - val_loss: 0.0235 - val_accuracy: 0.9940\n",
            "Epoch 70/100\n",
            "184/184 [==============================] - 3s 15ms/step - loss: 0.0195 - accuracy: 0.9935 - val_loss: 0.0238 - val_accuracy: 0.9952\n",
            "Epoch 71/100\n",
            "184/184 [==============================] - 3s 14ms/step - loss: 0.0196 - accuracy: 0.9940 - val_loss: 0.0231 - val_accuracy: 0.9948\n",
            "Epoch 72/100\n",
            "184/184 [==============================] - 3s 15ms/step - loss: 0.0188 - accuracy: 0.9947 - val_loss: 0.0287 - val_accuracy: 0.9948\n",
            "Epoch 73/100\n",
            "184/184 [==============================] - 4s 21ms/step - loss: 0.0197 - accuracy: 0.9947 - val_loss: 0.0211 - val_accuracy: 0.9956\n",
            "Epoch 74/100\n",
            "184/184 [==============================] - 3s 15ms/step - loss: 0.0196 - accuracy: 0.9940 - val_loss: 0.0218 - val_accuracy: 0.9948\n",
            "Epoch 75/100\n",
            "184/184 [==============================] - 3s 14ms/step - loss: 0.0179 - accuracy: 0.9944 - val_loss: 0.0251 - val_accuracy: 0.9928\n",
            "Epoch 76/100\n",
            "184/184 [==============================] - 3s 15ms/step - loss: 0.0187 - accuracy: 0.9942 - val_loss: 0.0233 - val_accuracy: 0.9948\n",
            "Epoch 77/100\n",
            "184/184 [==============================] - 3s 17ms/step - loss: 0.0182 - accuracy: 0.9949 - val_loss: 0.0224 - val_accuracy: 0.9948\n",
            "Epoch 78/100\n",
            "184/184 [==============================] - 3s 19ms/step - loss: 0.0175 - accuracy: 0.9952 - val_loss: 0.0232 - val_accuracy: 0.9956\n",
            "Epoch 79/100\n",
            "184/184 [==============================] - 3s 14ms/step - loss: 0.0176 - accuracy: 0.9942 - val_loss: 0.0239 - val_accuracy: 0.9952\n",
            "Epoch 80/100\n",
            "184/184 [==============================] - 3s 15ms/step - loss: 0.0170 - accuracy: 0.9947 - val_loss: 0.0237 - val_accuracy: 0.9956\n",
            "Epoch 81/100\n",
            "184/184 [==============================] - 3s 15ms/step - loss: 0.0179 - accuracy: 0.9949 - val_loss: 0.0230 - val_accuracy: 0.9948\n",
            "Epoch 82/100\n",
            "184/184 [==============================] - 4s 22ms/step - loss: 0.0158 - accuracy: 0.9954 - val_loss: 0.0274 - val_accuracy: 0.9913\n",
            "Epoch 83/100\n",
            "184/184 [==============================] - 3s 15ms/step - loss: 0.0177 - accuracy: 0.9954 - val_loss: 0.0261 - val_accuracy: 0.9948\n",
            "Epoch 84/100\n",
            "184/184 [==============================] - 3s 16ms/step - loss: 0.0160 - accuracy: 0.9954 - val_loss: 0.0236 - val_accuracy: 0.9956\n",
            "Epoch 85/100\n",
            "184/184 [==============================] - 3s 16ms/step - loss: 0.0165 - accuracy: 0.9952 - val_loss: 0.0232 - val_accuracy: 0.9956\n",
            "Epoch 86/100\n",
            "184/184 [==============================] - 4s 22ms/step - loss: 0.0160 - accuracy: 0.9949 - val_loss: 0.0255 - val_accuracy: 0.9940\n",
            "Epoch 87/100\n",
            "184/184 [==============================] - 3s 15ms/step - loss: 0.0169 - accuracy: 0.9951 - val_loss: 0.0251 - val_accuracy: 0.9948\n",
            "Epoch 88/100\n",
            "184/184 [==============================] - 3s 16ms/step - loss: 0.0165 - accuracy: 0.9951 - val_loss: 0.0242 - val_accuracy: 0.9944\n",
            "Epoch 89/100\n",
            "184/184 [==============================] - 4s 21ms/step - loss: 0.0157 - accuracy: 0.9959 - val_loss: 0.0287 - val_accuracy: 0.9944\n",
            "Epoch 90/100\n",
            "184/184 [==============================] - 5s 26ms/step - loss: 0.0145 - accuracy: 0.9964 - val_loss: 0.0313 - val_accuracy: 0.9932\n",
            "Epoch 91/100\n",
            "184/184 [==============================] - 3s 16ms/step - loss: 0.0147 - accuracy: 0.9956 - val_loss: 0.0262 - val_accuracy: 0.9936\n",
            "Epoch 92/100\n",
            "184/184 [==============================] - 3s 15ms/step - loss: 0.0156 - accuracy: 0.9961 - val_loss: 0.0291 - val_accuracy: 0.9921\n",
            "Epoch 93/100\n",
            "184/184 [==============================] - 3s 17ms/step - loss: 0.0161 - accuracy: 0.9957 - val_loss: 0.0249 - val_accuracy: 0.9936\n",
            "Epoch 94/100\n",
            "184/184 [==============================] - 4s 23ms/step - loss: 0.0161 - accuracy: 0.9956 - val_loss: 0.0253 - val_accuracy: 0.9952\n",
            "Epoch 95/100\n",
            "184/184 [==============================] - 3s 15ms/step - loss: 0.0153 - accuracy: 0.9961 - val_loss: 0.0283 - val_accuracy: 0.9940\n",
            "Epoch 96/100\n",
            "184/184 [==============================] - 3s 15ms/step - loss: 0.0141 - accuracy: 0.9957 - val_loss: 0.0259 - val_accuracy: 0.9936\n",
            "Epoch 97/100\n",
            "184/184 [==============================] - 3s 15ms/step - loss: 0.0143 - accuracy: 0.9964 - val_loss: 0.0268 - val_accuracy: 0.9944\n",
            "Epoch 98/100\n",
            "184/184 [==============================] - 4s 20ms/step - loss: 0.0135 - accuracy: 0.9964 - val_loss: 0.0296 - val_accuracy: 0.9952\n",
            "Epoch 99/100\n",
            "184/184 [==============================] - 3s 16ms/step - loss: 0.0137 - accuracy: 0.9959 - val_loss: 0.0281 - val_accuracy: 0.9932\n",
            "Epoch 100/100\n",
            "184/184 [==============================] - 3s 16ms/step - loss: 0.0134 - accuracy: 0.9963 - val_loss: 0.0279 - val_accuracy: 0.9944\n"
          ]
        }
      ],
      "source": [
        "scaler = MinMaxScaler(feature_range = (0,1))\n",
        "x = scaler.fit_transform(X)\n",
        "\n",
        "x = x.reshape(8386, 1, 68)\n",
        "\n",
        "X_train, X_test, y_train , y_test = train_test_split(x , y, test_size=0.3 , random_state = 1)\n",
        "print ('X_train: ', X_train.shape)\n",
        "print ('X_test: ', X_test.shape)\n",
        "print ('y_train: ', y_train.shape)\n",
        "print ('y_test: ', y_test.shape)\n",
        "\n",
        "\n",
        "model = models.Sequential()\n",
        "\n",
        "\n",
        "model.add(LSTM(50,input_shape=(X_train.shape[1], X_train.shape[2]),activation='relu', return_sequences =True))\n",
        "model.add(LSTM(256,input_shape=(X_train.shape[1], X_train.shape[2]),activation='relu', return_sequences =True))\n",
        "model.add(LSTM(64,input_shape=(X_train.shape[1], X_train.shape[2]),activation='relu', return_sequences =True))\n",
        "\n",
        "\n",
        "model.add(Dense(64, kernel_regularizer=keras.regularizers.l2(0.001)))\n",
        "model.add(Dropout(0.2))\n",
        "#model.add(Dense(256, kernel_regularizer=keras.regularizers.l2(0.001)))\n",
        "#model.add(Dropout(0.2))\n",
        "#model.add(Dense(64 , kernel_regularizer=keras.regularizers.l2(0.001)))\n",
        "#model.add(Dropout(0.2))\n",
        "\n",
        "\n",
        "\n",
        "\n",
        "\n",
        "\n",
        "model.add(layers.Dense(1, activation='sigmoid'))\n",
        "# FIT / TRAIN model\n",
        "\n",
        "model.compile(optimizer=\"RMSProp\", loss='binary_crossentropy', metrics=['accuracy'])\n",
        "\n",
        "history = model.fit(X_train, y_train, batch_size=32, epochs=100,validation_data=(X_test,y_test) )"
      ]
    },
    {
      "cell_type": "code",
      "source": [],
      "metadata": {
        "id": "iR68yL5Bn4Jl"
      },
      "execution_count": 39,
      "outputs": []
    },
    {
      "cell_type": "code",
      "source": [
        "results = model.evaluate(X_test, y_test)\n",
        "print(\"_\"*100)\n",
        "print(\"Test Loss and Accuracy\")\n",
        "print(\"results \", results)\n",
        "history_dict = history.history\n",
        "history_dict.keys()"
      ],
      "metadata": {
        "colab": {
          "base_uri": "https://localhost:8080/"
        },
        "id": "T_qxkpLsu3_p",
        "outputId": "dfe2ec8f-5654-4608-e748-375579f0b665"
      },
      "execution_count": 40,
      "outputs": [
        {
          "output_type": "stream",
          "name": "stdout",
          "text": [
            "79/79 [==============================] - 0s 5ms/step - loss: 0.0279 - accuracy: 0.9944\n",
            "____________________________________________________________________________________________________\n",
            "Test Loss and Accuracy\n",
            "results  [0.027918687090277672, 0.9944356083869934]\n"
          ]
        },
        {
          "output_type": "execute_result",
          "data": {
            "text/plain": [
              "dict_keys(['loss', 'accuracy', 'val_loss', 'val_accuracy'])"
            ]
          },
          "metadata": {},
          "execution_count": 40
        }
      ]
    },
    {
      "cell_type": "code",
      "source": [
        "import numpy\n",
        "p_pred = model.predict(X_test)\n",
        "p_pred = p_pred.flatten()\n",
        "print(p_pred.round(2))\n",
        "# [1. 0.01 0.91 0.87 0.06 0.95 0.24 0.58 0.78 ...\n",
        "\n",
        "# extract the predicted class labels\n",
        "y_pred = numpy.where(p_pred > 0.5, 1, 0)\n",
        "print(y_pred)"
      ],
      "metadata": {
        "colab": {
          "base_uri": "https://localhost:8080/"
        },
        "id": "j7tkl1tNu6mZ",
        "outputId": "acd1021a-10c2-4ff2-a317-5fc38b146f92"
      },
      "execution_count": 41,
      "outputs": [
        {
          "output_type": "stream",
          "name": "stdout",
          "text": [
            "79/79 [==============================] - 1s 4ms/step\n",
            "[0.19 0.   0.   ... 1.   0.   0.  ]\n",
            "[0 0 0 ... 1 0 0]\n"
          ]
        }
      ]
    },
    {
      "cell_type": "code",
      "source": [
        "results = model.evaluate(X_test, y_test)\n",
        "print(\"_\"*100)\n",
        "print(\"Test Loss and Accuracy\")\n",
        "print(\"results \", results)\n",
        "history_dict = history.history\n",
        "history_dict.keys()"
      ],
      "metadata": {
        "colab": {
          "base_uri": "https://localhost:8080/"
        },
        "id": "81Zhod3ku60P",
        "outputId": "655da2d0-548f-4d23-ac82-bc710ce74a69"
      },
      "execution_count": 42,
      "outputs": [
        {
          "output_type": "stream",
          "name": "stdout",
          "text": [
            "79/79 [==============================] - 0s 4ms/step - loss: 0.0279 - accuracy: 0.9944\n",
            "____________________________________________________________________________________________________\n",
            "Test Loss and Accuracy\n",
            "results  [0.027918687090277672, 0.9944356083869934]\n"
          ]
        },
        {
          "output_type": "execute_result",
          "data": {
            "text/plain": [
              "dict_keys(['loss', 'accuracy', 'val_loss', 'val_accuracy'])"
            ]
          },
          "metadata": {},
          "execution_count": 42
        }
      ]
    },
    {
      "cell_type": "code",
      "source": [
        "accuracy = accuracy_score(y_test, y_pred)\n",
        "print('Accuracy: %f' % accuracy)\n",
        "# recall: tp / (tp + fn)\n",
        "recall = recall_score(y_test, y_pred)\n",
        "print('Recall: %f' % recall)\n",
        "# f1: 2 tp / (2 tp + fp + fn)\n",
        "f1 = f1_score(y_test, y_pred)\n",
        "\n",
        "print('F1 score: %f' % f1)\n"
      ],
      "metadata": {
        "colab": {
          "base_uri": "https://localhost:8080/"
        },
        "id": "qQOsRI2Au7fL",
        "outputId": "afea115f-6cd6-4edd-9593-05fed781346a"
      },
      "execution_count": 43,
      "outputs": [
        {
          "output_type": "stream",
          "name": "stdout",
          "text": [
            "Accuracy: 0.994436\n",
            "Recall: 0.991281\n",
            "F1 score: 0.995286\n"
          ]
        }
      ]
    },
    {
      "cell_type": "code",
      "source": [
        "plt.clf()\n",
        "loss = history.history['loss']\n",
        "val_loss = history.history['val_loss']\n",
        "epochs = range(1,len(loss)+ 1)\n",
        "plt.plot(epochs ,loss,'g',label='Training loss')\n",
        "plt.plot(epochs ,val_loss,'b',label='Validation loss')\n",
        "plt.title('Train and validation loss')\n",
        "plt.xlabel('Epochs')\n",
        "plt.ylabel('loss')\n",
        "plt.legend()\n",
        "plt.show()\n",
        "\n",
        "plt.clf()\n",
        "acc = history.history['accuracy']\n",
        "val_acc = history.history['val_accuracy']\n",
        "plt.plot(epochs ,acc,'g',label='Training acc')\n",
        "plt.plot(epochs ,val_acc,'y',label='Validation acc')\n",
        "plt.title('Train and validation accuracy')\n",
        "plt.xlabel('Epochs')\n",
        "plt.ylabel('Accuracy')\n",
        "plt.legend()\n",
        "plt.show()"
      ],
      "metadata": {
        "colab": {
          "base_uri": "https://localhost:8080/",
          "height": 927
        },
        "id": "vAfMLzXj5tJC",
        "outputId": "9a4f4941-18db-43b6-b9cb-c93796be1093"
      },
      "execution_count": 44,
      "outputs": [
        {
          "output_type": "display_data",
          "data": {
            "text/plain": [
              "<Figure size 640x480 with 1 Axes>"
            ],
            "image/png": "[encoded data removed]"
          },
          "metadata": {}
        },
        {
          "output_type": "display_data",
          "data": {
            "text/plain": [
              "<Figure size 640x480 with 1 Axes>"
            ],
            "image/png": "[encoded data removed]"
          },
          "metadata": {}
        }
      ]
    },
    {
      "cell_type": "code",
      "source": [
        "accuracy = accuracy_score(y_test, y_pred)\n",
        "print('Accuracy: %f' % accuracy)\n",
        "# recall: tp / (tp + fn)\n",
        "recall = recall_score(y_test, y_pred)\n",
        "print('Recall: %f' % recall)\n",
        "# f1: 2 tp / (2 tp + fp + fn)\n",
        "f1 = f1_score(y_test, y_pred)\n",
        "\n",
        "print('F1 score: %f' % f1)"
      ],
      "metadata": {
        "colab": {
          "base_uri": "https://localhost:8080/"
        },
        "id": "n583NJPWt0cE",
        "outputId": "dc2f2bce-90dd-4351-f4f2-f4b6738f0951"
      },
      "execution_count": 45,
      "outputs": [
        {
          "output_type": "stream",
          "name": "stdout",
          "text": [
            "Accuracy: 0.994436\n",
            "Recall: 0.991281\n",
            "F1 score: 0.995286\n"
          ]
        }
      ]
    }
  ]
}