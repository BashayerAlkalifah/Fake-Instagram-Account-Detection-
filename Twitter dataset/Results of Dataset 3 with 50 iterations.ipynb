{
  "nbformat": 4,
  "nbformat_minor": 0,
  "metadata": {
    "colab": {
      "provenance": []
    },
    "kernelspec": {
      "name": "python3",
      "display_name": "Python 3"
    },
    "language_info": {
      "name": "python"
    }
  },
  "cells": [
    {
      "cell_type": "code",
      "source": [
        "from keras.backend import shape\n",
        "import pandas as pd\n",
        "from sklearn.preprocessing import MinMaxScaler\n",
        "from sklearn.model_selection import train_test_split\n",
        "from tensorflow.keras.models import Sequential\n",
        "from tensorflow.keras.layers import Dense , Dropout\n",
        "from tensorflow.keras.layers import LSTM\n",
        "import matplotlib.pyplot as plt\n",
        "import numpy as np\n",
        "\n",
        "import keras\n",
        "import keras.utils\n",
        "from keras import utils as np_utils\n",
        "\n",
        "from sklearn.model_selection import train_test_split\n",
        "from sklearn import model_selection, preprocessing\n",
        "from sklearn.metrics import classification_report, confusion_matrix, accuracy_score\n",
        "from sklearn.model_selection import cross_val_score, GridSearchCV, RandomizedSearchCV,KFold, cross_val_predict, StratifiedKFold, train_test_split, learning_curve, ShuffleSplit\n",
        "\n",
        "from sklearn.metrics import confusion_matrix, precision_score, recall_score, accuracy_score, f1_score\n",
        "from sklearn.model_selection import cross_val_predict\n",
        "from sklearn.metrics import confusion_matrix\n",
        "from sklearn.metrics import precision_recall_curve, average_precision_score, auc\n",
        "\n",
        "from sklearn.decomposition import PCA\n",
        "\n",
        "from sklearn.metrics import roc_curve\n",
        "from sklearn.metrics import roc_auc_score\n",
        "\n",
        "import seaborn as sns\n",
        "import matplotlib.pyplot as plt\n",
        "%matplotlib inline\n",
        "\n",
        "import tensorflow as tf\n",
        "\n",
        "\n",
        "from keras import models, regularizers, layers, optimizers, losses, metrics\n",
        "from keras.models import Sequential\n",
        "from keras.layers import Dense\n",
        "#from keras.utils import np_utils\n",
        "from tensorflow.keras.utils import to_categorical\n",
        "#  ConvLSTM\n",
        "from keras.layers import Dense, Activation, Input, LSTM, Bidirectional, Dropout\n",
        "from keras.models import Sequential, Model\n",
        "from keras.layers import Conv1DTranspose, Conv1D, MaxPooling1D\n",
        "\n",
        "from tensorflow.python.client import device_lib"
      ],
      "metadata": {
        "id": "NpRP7MUC4pPn"
      },
      "execution_count": 32,
      "outputs": []
    },
    {
      "cell_type": "code",
      "source": [
        "data = pd.read_csv('dataset1.csv')\n",
        "\n",
        "\n",
        "\n",
        "data.dropna(inplace = True)\n",
        "data.drop_duplicates(inplace = True)\n",
        "print(data.isnull().sum())\n",
        "\n",
        "#print(data_full.info())\n",
        "print(data.shape)\n",
        "\n",
        "#print(data.isnull().sum())\n",
        "#print(data_full['pi'].describe())\n",
        "\n",
        "#print(data_full['flw'].isnull())\n",
        "#print(data.describe())\n",
        "#print(data_full['class'] < 0.0)\n",
        "\n",
        "y = data[\"class_bot\"]\n",
        "X = data.drop(\"class_bot\", 1)"
      ],
      "metadata": {
        "colab": {
          "base_uri": "https://localhost:8080/"
        },
        "id": "ioUZk7eW4yfC",
        "outputId": "730129c1-82ca-486e-f124-0e742cf98ab8"
      },
      "execution_count": 33,
      "outputs": [
        {
          "output_type": "stream",
          "name": "stdout",
          "text": [
            "id                              0\n",
            "statuses_count                  0\n",
            "followers_count                 0\n",
            "friends_count                   0\n",
            "favourites_count                0\n",
            "                               ..\n",
            "friends_account_age_ratio       0\n",
            "statuses_account_age_ratio      0\n",
            "favourites_account_age_ratio    0\n",
            "lists_account_age_ratio         0\n",
            "class_bot                       0\n",
            "Length: 69, dtype: int64\n",
            "(8386, 69)\n"
          ]
        },
        {
          "output_type": "stream",
          "name": "stderr",
          "text": [
            "<ipython-input-33-dcde1dbf0166>:20: FutureWarning: In a future version of pandas all arguments of DataFrame.drop except for the argument 'labels' will be keyword-only.\n",
            "  X = data.drop(\"class_bot\", 1)\n"
          ]
        }
      ]
    },
    {
      "cell_type": "code",
      "execution_count": 34,
      "metadata": {
        "colab": {
          "base_uri": "https://localhost:8080/"
        },
        "id": "AZ_lUXFn4nFw",
        "outputId": "7fa8e2fb-eba2-4361-d1b8-1b4463ca279f"
      },
      "outputs": [
        {
          "output_type": "stream",
          "name": "stdout",
          "text": [
            "X_train:  (5870, 1, 68)\n",
            "X_test:  (2516, 1, 68)\n",
            "y_train:  (5870,)\n",
            "y_test:  (2516,)\n",
            "Epoch 1/50\n",
            "45/45 [==============================] - 3s 16ms/step - loss: 0.6619 - accuracy: 0.6286 - val_loss: 0.6034 - val_accuracy: 0.8355\n",
            "Epoch 2/50\n",
            "45/45 [==============================] - 0s 7ms/step - loss: 0.4405 - accuracy: 0.9036 - val_loss: 0.2465 - val_accuracy: 0.9452\n",
            "Epoch 3/50\n",
            "45/45 [==============================] - 0s 7ms/step - loss: 0.1586 - accuracy: 0.9533 - val_loss: 0.1016 - val_accuracy: 0.9710\n",
            "Epoch 4/50\n",
            "45/45 [==============================] - 0s 7ms/step - loss: 0.0811 - accuracy: 0.9784 - val_loss: 0.0567 - val_accuracy: 0.9845\n",
            "Epoch 5/50\n",
            "45/45 [==============================] - 0s 7ms/step - loss: 0.0593 - accuracy: 0.9845 - val_loss: 0.0450 - val_accuracy: 0.9865\n",
            "Epoch 6/50\n",
            "45/45 [==============================] - 0s 7ms/step - loss: 0.0520 - accuracy: 0.9862 - val_loss: 0.0400 - val_accuracy: 0.9865\n",
            "Epoch 7/50\n",
            "45/45 [==============================] - 0s 7ms/step - loss: 0.0489 - accuracy: 0.9857 - val_loss: 0.0377 - val_accuracy: 0.9869\n",
            "Epoch 8/50\n",
            "45/45 [==============================] - 0s 7ms/step - loss: 0.0473 - accuracy: 0.9859 - val_loss: 0.0454 - val_accuracy: 0.9865\n",
            "Epoch 9/50\n",
            "45/45 [==============================] - 0s 7ms/step - loss: 0.0448 - accuracy: 0.9864 - val_loss: 0.0351 - val_accuracy: 0.9881\n",
            "Epoch 10/50\n",
            "45/45 [==============================] - 0s 7ms/step - loss: 0.0429 - accuracy: 0.9864 - val_loss: 0.0367 - val_accuracy: 0.9873\n",
            "Epoch 11/50\n",
            "45/45 [==============================] - 0s 7ms/step - loss: 0.0424 - accuracy: 0.9864 - val_loss: 0.0331 - val_accuracy: 0.9873\n",
            "Epoch 12/50\n",
            "45/45 [==============================] - 0s 7ms/step - loss: 0.0409 - accuracy: 0.9872 - val_loss: 0.0330 - val_accuracy: 0.9881\n",
            "Epoch 13/50\n",
            "45/45 [==============================] - 0s 7ms/step - loss: 0.0400 - accuracy: 0.9872 - val_loss: 0.0400 - val_accuracy: 0.9857\n",
            "Epoch 14/50\n",
            "45/45 [==============================] - 0s 7ms/step - loss: 0.0386 - accuracy: 0.9877 - val_loss: 0.0311 - val_accuracy: 0.9885\n",
            "Epoch 15/50\n",
            "45/45 [==============================] - 1s 11ms/step - loss: 0.0374 - accuracy: 0.9877 - val_loss: 0.0305 - val_accuracy: 0.9885\n",
            "Epoch 16/50\n",
            "45/45 [==============================] - 1s 13ms/step - loss: 0.0360 - accuracy: 0.9884 - val_loss: 0.0306 - val_accuracy: 0.9889\n",
            "Epoch 17/50\n",
            "45/45 [==============================] - 1s 12ms/step - loss: 0.0355 - accuracy: 0.9898 - val_loss: 0.0329 - val_accuracy: 0.9885\n",
            "Epoch 18/50\n",
            "45/45 [==============================] - 0s 10ms/step - loss: 0.0353 - accuracy: 0.9882 - val_loss: 0.0293 - val_accuracy: 0.9885\n",
            "Epoch 19/50\n",
            "45/45 [==============================] - 1s 12ms/step - loss: 0.0349 - accuracy: 0.9886 - val_loss: 0.0295 - val_accuracy: 0.9897\n",
            "Epoch 20/50\n",
            "45/45 [==============================] - 0s 7ms/step - loss: 0.0336 - accuracy: 0.9899 - val_loss: 0.0286 - val_accuracy: 0.9897\n",
            "Epoch 21/50\n",
            "45/45 [==============================] - 0s 7ms/step - loss: 0.0326 - accuracy: 0.9889 - val_loss: 0.0513 - val_accuracy: 0.9849\n",
            "Epoch 22/50\n",
            "45/45 [==============================] - 0s 7ms/step - loss: 0.0332 - accuracy: 0.9891 - val_loss: 0.0279 - val_accuracy: 0.9901\n",
            "Epoch 23/50\n",
            "45/45 [==============================] - 0s 7ms/step - loss: 0.0311 - accuracy: 0.9901 - val_loss: 0.0336 - val_accuracy: 0.9889\n",
            "Epoch 24/50\n",
            "45/45 [==============================] - 0s 7ms/step - loss: 0.0311 - accuracy: 0.9901 - val_loss: 0.0273 - val_accuracy: 0.9897\n",
            "Epoch 25/50\n",
            "45/45 [==============================] - 0s 7ms/step - loss: 0.0300 - accuracy: 0.9903 - val_loss: 0.0275 - val_accuracy: 0.9897\n",
            "Epoch 26/50\n",
            "45/45 [==============================] - 0s 7ms/step - loss: 0.0300 - accuracy: 0.9899 - val_loss: 0.0322 - val_accuracy: 0.9885\n",
            "Epoch 27/50\n",
            "45/45 [==============================] - 0s 7ms/step - loss: 0.0298 - accuracy: 0.9899 - val_loss: 0.0277 - val_accuracy: 0.9897\n",
            "Epoch 28/50\n",
            "45/45 [==============================] - 0s 7ms/step - loss: 0.0291 - accuracy: 0.9908 - val_loss: 0.0293 - val_accuracy: 0.9889\n",
            "Epoch 29/50\n",
            "45/45 [==============================] - 0s 7ms/step - loss: 0.0294 - accuracy: 0.9903 - val_loss: 0.0286 - val_accuracy: 0.9901\n",
            "Epoch 30/50\n",
            "45/45 [==============================] - 0s 7ms/step - loss: 0.0282 - accuracy: 0.9901 - val_loss: 0.0265 - val_accuracy: 0.9905\n",
            "Epoch 31/50\n",
            "45/45 [==============================] - 0s 7ms/step - loss: 0.0277 - accuracy: 0.9908 - val_loss: 0.0263 - val_accuracy: 0.9905\n",
            "Epoch 32/50\n",
            "45/45 [==============================] - 0s 7ms/step - loss: 0.0273 - accuracy: 0.9898 - val_loss: 0.0259 - val_accuracy: 0.9909\n",
            "Epoch 33/50\n",
            "45/45 [==============================] - 0s 7ms/step - loss: 0.0273 - accuracy: 0.9923 - val_loss: 0.0262 - val_accuracy: 0.9905\n",
            "Epoch 34/50\n",
            "45/45 [==============================] - 0s 7ms/step - loss: 0.0274 - accuracy: 0.9915 - val_loss: 0.0272 - val_accuracy: 0.9901\n",
            "Epoch 35/50\n",
            "45/45 [==============================] - 0s 7ms/step - loss: 0.0264 - accuracy: 0.9908 - val_loss: 0.0263 - val_accuracy: 0.9909\n",
            "Epoch 36/50\n",
            "45/45 [==============================] - 0s 7ms/step - loss: 0.0261 - accuracy: 0.9920 - val_loss: 0.0261 - val_accuracy: 0.9901\n",
            "Epoch 37/50\n",
            "45/45 [==============================] - 0s 7ms/step - loss: 0.0257 - accuracy: 0.9920 - val_loss: 0.0272 - val_accuracy: 0.9905\n",
            "Epoch 38/50\n",
            "45/45 [==============================] - 0s 7ms/step - loss: 0.0251 - accuracy: 0.9915 - val_loss: 0.0261 - val_accuracy: 0.9909\n",
            "Epoch 39/50\n",
            "45/45 [==============================] - 0s 7ms/step - loss: 0.0252 - accuracy: 0.9927 - val_loss: 0.0260 - val_accuracy: 0.9913\n",
            "Epoch 40/50\n",
            "45/45 [==============================] - 0s 8ms/step - loss: 0.0252 - accuracy: 0.9923 - val_loss: 0.0269 - val_accuracy: 0.9905\n",
            "Epoch 41/50\n",
            "45/45 [==============================] - 0s 7ms/step - loss: 0.0249 - accuracy: 0.9927 - val_loss: 0.0264 - val_accuracy: 0.9909\n",
            "Epoch 42/50\n",
            "45/45 [==============================] - 0s 7ms/step - loss: 0.0245 - accuracy: 0.9917 - val_loss: 0.0259 - val_accuracy: 0.9897\n",
            "Epoch 43/50\n",
            "45/45 [==============================] - 0s 7ms/step - loss: 0.0243 - accuracy: 0.9925 - val_loss: 0.0263 - val_accuracy: 0.9905\n",
            "Epoch 44/50\n",
            "45/45 [==============================] - 0s 8ms/step - loss: 0.0237 - accuracy: 0.9925 - val_loss: 0.0261 - val_accuracy: 0.9905\n",
            "Epoch 45/50\n",
            "45/45 [==============================] - 0s 7ms/step - loss: 0.0230 - accuracy: 0.9928 - val_loss: 0.0259 - val_accuracy: 0.9905\n",
            "Epoch 46/50\n",
            "45/45 [==============================] - 0s 7ms/step - loss: 0.0233 - accuracy: 0.9928 - val_loss: 0.0264 - val_accuracy: 0.9909\n",
            "Epoch 47/50\n",
            "45/45 [==============================] - 0s 7ms/step - loss: 0.0234 - accuracy: 0.9927 - val_loss: 0.0263 - val_accuracy: 0.9905\n",
            "Epoch 48/50\n",
            "45/45 [==============================] - 0s 7ms/step - loss: 0.0228 - accuracy: 0.9927 - val_loss: 0.0306 - val_accuracy: 0.9901\n",
            "Epoch 49/50\n",
            "45/45 [==============================] - 1s 15ms/step - loss: 0.0225 - accuracy: 0.9922 - val_loss: 0.0264 - val_accuracy: 0.9905\n",
            "Epoch 50/50\n",
            "45/45 [==============================] - 1s 23ms/step - loss: 0.0222 - accuracy: 0.9935 - val_loss: 0.0301 - val_accuracy: 0.9901\n"
          ]
        }
      ],
      "source": [
        "scaler = MinMaxScaler(feature_range = (0,1))\n",
        "x = scaler.fit_transform(X)\n",
        "\n",
        "x = x.reshape(8386, 1, 68)\n",
        "\n",
        "X_train, X_test, y_train , y_test = train_test_split(x , y, test_size=0.3 , random_state = 42)\n",
        "print ('X_train: ', X_train.shape)\n",
        "print ('X_test: ', X_test.shape)\n",
        "print ('y_train: ', y_train.shape)\n",
        "print ('y_test: ', y_test.shape)\n",
        "\n",
        "\n",
        "model = models.Sequential()\n",
        "\n",
        "\n",
        "model.add(LSTM(50,input_shape=(X_train.shape[1], X_train.shape[2]),activation='relu', return_sequences =True))\n",
        "model.add(layers.LSTM(50, activation='relu'))\n",
        "model.add(layers.Dense(1, activation='sigmoid'))\n",
        "# FIT / TRAIN model\n",
        "\n",
        "model.compile(optimizer=\"RMSProp\", loss='binary_crossentropy', metrics=['accuracy'])\n",
        "\n",
        "history = model.fit(X_train, y_train, batch_size=132, epochs=50,validation_data=(X_test,y_test) )"
      ]
    },
    {
      "cell_type": "code",
      "source": [
        "results = model.evaluate(X_test, y_test)\n",
        "print(\"_\"*100)\n",
        "print(\"Test Loss and Accuracy\")\n",
        "print(\"results \", results)\n",
        "history_dict = history.history\n",
        "history_dict.keys()"
      ],
      "metadata": {
        "colab": {
          "base_uri": "https://localhost:8080/"
        },
        "id": "A9wBuJGZwQB6",
        "outputId": "71dbacd3-0374-4e53-cca9-4b859400afeb"
      },
      "execution_count": 35,
      "outputs": [
        {
          "output_type": "stream",
          "name": "stdout",
          "text": [
            "79/79 [==============================] - 0s 2ms/step - loss: 0.0301 - accuracy: 0.9901\n",
            "____________________________________________________________________________________________________\n",
            "Test Loss and Accuracy\n",
            "results  [0.03007577359676361, 0.9900636076927185]\n"
          ]
        },
        {
          "output_type": "execute_result",
          "data": {
            "text/plain": [
              "dict_keys(['loss', 'accuracy', 'val_loss', 'val_accuracy'])"
            ]
          },
          "metadata": {},
          "execution_count": 35
        }
      ]
    },
    {
      "cell_type": "code",
      "source": [
        "p_pred = model.predict(X_test)\n",
        "p_pred = p_pred.flatten()\n",
        "print(p_pred.round(2))\n",
        "# [1. 0.01 0.91 0.87 0.06 0.95 0.24 0.58 0.78 ...\n",
        "\n",
        "# extract the predicted class labels\n",
        "y_pred = np.where(p_pred > 0.5, 1, 0)\n",
        "print(y_pred)"
      ],
      "metadata": {
        "colab": {
          "base_uri": "https://localhost:8080/"
        },
        "id": "9Vw9no9O2eWa",
        "outputId": "616a0186-5c15-492e-ac0f-21d37e42c61b"
      },
      "execution_count": 36,
      "outputs": [
        {
          "output_type": "stream",
          "name": "stdout",
          "text": [
            "79/79 [==============================] - 0s 2ms/step\n",
            "[0.   0.97 1.   ... 0.99 0.   1.  ]\n",
            "[0 1 1 ... 1 0 1]\n"
          ]
        }
      ]
    },
    {
      "cell_type": "code",
      "source": [
        "accuracy = accuracy_score(y_test, y_pred)\n",
        "print('Accuracy: %f' % accuracy)\n",
        "# recall: tp / (tp + fn)\n",
        "recall = recall_score(y_test, y_pred)\n",
        "print('Recall: %f' % recall)\n",
        "# f1: 2 tp / (2 tp + fp + fn)\n",
        "f1 = f1_score(y_test, y_pred)\n",
        "\n",
        "print('F1 score: %f' % f1)\n"
      ],
      "metadata": {
        "colab": {
          "base_uri": "https://localhost:8080/"
        },
        "id": "M2hryRXL2gVJ",
        "outputId": "57ae0535-f7f4-4b3e-8b65-97e996d296a9"
      },
      "execution_count": 37,
      "outputs": [
        {
          "output_type": "stream",
          "name": "stdout",
          "text": [
            "Accuracy: 0.990064\n",
            "Recall: 0.985487\n",
            "F1 score: 0.991310\n"
          ]
        }
      ]
    },
    {
      "cell_type": "code",
      "source": [
        "plt.clf()\n",
        "loss = history.history['loss']\n",
        "val_loss = history.history['val_loss']\n",
        "epochs = range(1,len(loss)+ 1)\n",
        "plt.plot(epochs ,loss,'g',label='Training loss')\n",
        "plt.plot(epochs ,val_loss,'b',label='Validation loss')\n",
        "plt.title('Train and validation loss')\n",
        "plt.xlabel('Epochs')\n",
        "plt.ylabel('loss')\n",
        "plt.legend()\n",
        "plt.show()\n",
        "\n",
        "plt.clf()\n",
        "acc = history.history['accuracy']\n",
        "val_acc = history.history['val_accuracy']\n",
        "plt.plot(epochs ,acc,'g',label='Training acc')\n",
        "plt.plot(epochs ,val_acc,'y',label='Validation acc')\n",
        "plt.title('Train and validation accuracy')\n",
        "plt.xlabel('Epochs')\n",
        "plt.ylabel('Accuracy')\n",
        "plt.legend()\n",
        "plt.show()"
      ],
      "metadata": {
        "colab": {
          "base_uri": "https://localhost:8080/",
          "height": 927
        },
        "id": "vAfMLzXj5tJC",
        "outputId": "4f24ecf0-502d-4739-904d-7701b94d3c70"
      },
      "execution_count": 38,
      "outputs": [
        {
          "output_type": "display_data",
          "data": {
            "text/plain": [
              "<Figure size 640x480 with 1 Axes>"
            ],
            "image/png": "[encoded data removed]"
          },
          "metadata": {}
        },
        {
          "output_type": "display_data",
          "data": {
            "text/plain": [
              "<Figure size 640x480 with 1 Axes>"
            ],
            "image/png": "[encoded data removed]"
          },
          "metadata": {}
        }
      ]
    }
  ]
}